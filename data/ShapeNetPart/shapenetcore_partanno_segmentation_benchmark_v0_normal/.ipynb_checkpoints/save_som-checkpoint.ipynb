{
 "cells": [
  {
   "cell_type": "code",
   "execution_count": null,
   "metadata": {
    "collapsed": true
   },
   "outputs": [],
   "source": [
    "import random\n",
    "import numbers\n",
    "import os\n",
    "import os.path\n",
    "import numpy as np\n",
    "import struct\n",
    "import math\n",
    "\n",
    "import torch\n",
    "import torchvision\n",
    "import matplotlib.pyplot as plt\n",
    "import h5py\n",
    "import json\n",
    "\n",
    "from util import som\n",
    "\n",
    "import matplotlib.pyplot as plt\n",
    "from mpl_toolkits.mplot3d import Axes3D\n",
    "%matplotlib qt5 \n",
    "\n",
    "from PIL import Image, ImageChops"
   ]
  },
  {
   "cell_type": "code",
   "execution_count": null,
   "metadata": {
    "collapsed": true
   },
   "outputs": [],
   "source": [
    "# get som noded for all of modelnet 40\n",
    "def som_saver_shapenetpart(root, rows, cols, gpu_ids, split='train'):\n",
    "    som_builder = som.SOM(rows, cols, 3, gpu_ids)\n",
    "    \n",
    "    \n",
    "    f = open(os.path.join(root, 'train_test_split', 'shuffled_'+split+'_file_list.json'), 'r')\n",
    "    file_name_list = json.load(f)\n",
    "    f.close()\n",
    "    \n",
    "    for i in range(len(file_name_list)):\n",
    "        file_name = file_name_list[i][11:]\n",
    "        \n",
    "        txt_file = os.path.join(root, file_name+'.txt')\n",
    "        data = np.loadtxt(txt_file, dtype=np.float32)  # Nx7, x,y,z, [sn_x,sn_y,sn_z], part label\n",
    "        \n",
    "        pc_np = data[:, 0:3]\n",
    "        sn_np = data[:, 3:6]\n",
    "        part_label_np = data[:, 6]\n",
    "        \n",
    "        pc = torch.from_numpy(pc_np.transpose().astype(np.float32)).cuda()  # 3xN tensor\n",
    "        som_builder.optimize(pc)\n",
    "        som_node_np = som_builder.node.cpu().numpy().transpose().astype(np.float32)  # node_numx3\n",
    "        \n",
    "        npz_file = os.path.join(root, file_name+'_%dx%d.npz'%(rows,cols))\n",
    "        np.savez(npz_file, pc=pc_np, sn=sn_np, part_label=part_label_np, som_node=som_node_np)\n",
    "        \n",
    "        print('%d, %s' % (i, file_name))\n",
    "        \n",
    "        #print(som_node_np)\n",
    "#         print(pc_np.shape)\n",
    "#         print(som_node_np.shape)\n",
    "        \n",
    "#         x_np = pc_np\n",
    "#         node_np = som_node_np\n",
    "#         fig = plt.figure()\n",
    "#         ax = Axes3D(fig)\n",
    "#         ax.scatter(x_np[:,0].tolist(), x_np[:,1].tolist(), x_np[:,2].tolist(), s=1)\n",
    "#         ax.scatter(node_np[:,0].tolist(), node_np[:,1].tolist(), node_np[:,2].tolist(), s=6, c='r')\n",
    "#         plt.show()\n",
    "        \n",
    "#         if i>10:\n",
    "#             break\n",
    "        "
   ]
  },
  {
   "cell_type": "code",
   "execution_count": null,
   "metadata": {
    "scrolled": true
   },
   "outputs": [],
   "source": [
    "som_saver_shapenetpart('/ssd/dataset/shapenetcore_partanno_segmentation_benchmark_v0_normal', 8, 8, True, 'train')\n",
    "som_saver_shapenetpart('/ssd/dataset/shapenetcore_partanno_segmentation_benchmark_v0_normal', 8, 8, True, 'test')\n",
    "som_saver_shapenetpart('/ssd/dataset/shapenetcore_partanno_segmentation_benchmark_v0_normal', 8, 8, True, 'val')"
   ]
  },
  {
   "cell_type": "code",
   "execution_count": null,
   "metadata": {},
   "outputs": [],
   "source": [
    "file = '/ssd/dataset/shapenetcore_partanno_segmentation_benchmark_v0_normal/03624134/3d2cb9d291ec39dc58a42593b26221da_8x8.npz'\n",
    "data = np.load(file)\n",
    "print(data['pc'])\n",
    "print(data['sn'])\n",
    "print(data['part_label'])\n",
    "print(data['som_node'])"
   ]
  },
  {
   "cell_type": "code",
   "execution_count": null,
   "metadata": {},
   "outputs": [],
   "source": [
    "folders = ['02691156', '02773838', '02954340', '02958343', '03001627', '03261776', '03467517', '03624134', \n",
    "           '03636649', '03642806', '03790512', '03797390', '03948459', '04099429', '04225987', '04379243']\n",
    "print(folders.index('03636649'))"
   ]
  },
  {
   "cell_type": "code",
   "execution_count": null,
   "metadata": {
    "collapsed": true
   },
   "outputs": [],
   "source": []
  }
 ],
 "metadata": {
  "kernelspec": {
   "display_name": "Python 3",
   "language": "python",
   "name": "python3"
  },
  "language_info": {
   "codemirror_mode": {
    "name": "ipython",
    "version": 3
   },
   "file_extension": ".py",
   "mimetype": "text/x-python",
   "name": "python",
   "nbconvert_exporter": "python",
   "pygments_lexer": "ipython3",
   "version": "3.5.2"
  }
 },
 "nbformat": 4,
 "nbformat_minor": 2
}
